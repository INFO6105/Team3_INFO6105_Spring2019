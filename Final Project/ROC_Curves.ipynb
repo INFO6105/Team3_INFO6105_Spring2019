{
 "cells": [
  {
   "cell_type": "code",
   "execution_count": 1,
   "metadata": {},
   "outputs": [],
   "source": [
    "# Visualisation / Plotting\n",
    "import seaborn as sea\n",
    "import matplotlib.pyplot as plt\n",
    "\n",
    "# Feature Extractions / Preprocessing\n",
    "from sklearn.feature_extraction.text import TfidfVectorizer\n",
    "import nltk\n",
    "\n",
    "# Model\n",
    "from sklearn.svm import LinearSVC\n",
    "from sklearn.linear_model import LogisticRegression\n",
    "from sklearn.naive_bayes import MultinomialNB\n",
    "from sklearn.ensemble import RandomForestClassifier\n",
    "from xgboost import XGBClassifier\n",
    "\n",
    "# Metric\n",
    "from sklearn.metrics import classification_report\n",
    "from sklearn.metrics import confusion_matrix\n",
    "from sklearn.metrics import f1_score\n",
    "from sklearn.metrics import accuracy_score\n",
    "\n",
    "# Data Structure\n",
    "import string \n",
    "import numpy as np\n",
    "import pickle\n",
    "import pandas as pd\n",
    "from sklearn.externals import joblib"
   ]
  },
  {
   "cell_type": "code",
   "execution_count": 2,
   "metadata": {},
   "outputs": [
    {
     "data": {
      "text/plain": [
       "real    15712\n",
       "fake    12999\n",
       "Name: label, dtype: int64"
      ]
     },
     "execution_count": 2,
     "metadata": {},
     "output_type": "execute_result"
    }
   ],
   "source": [
    "#load Csv\n",
    "df = pd.read_csv(\"news_dataset.csv\", encoding='utf-8')\n",
    "df['label'].value_counts()"
   ]
  },
  {
   "cell_type": "code",
   "execution_count": 3,
   "metadata": {},
   "outputs": [
    {
     "data": {
      "text/html": [
       "<div>\n",
       "<style scoped>\n",
       "    .dataframe tbody tr th:only-of-type {\n",
       "        vertical-align: middle;\n",
       "    }\n",
       "\n",
       "    .dataframe tbody tr th {\n",
       "        vertical-align: top;\n",
       "    }\n",
       "\n",
       "    .dataframe thead th {\n",
       "        text-align: right;\n",
       "    }\n",
       "</style>\n",
       "<table border=\"1\" class=\"dataframe\">\n",
       "  <thead>\n",
       "    <tr style=\"text-align: right;\">\n",
       "      <th></th>\n",
       "      <th>Unnamed: 0</th>\n",
       "      <th>title</th>\n",
       "      <th>content</th>\n",
       "      <th>publication</th>\n",
       "      <th>label</th>\n",
       "    </tr>\n",
       "  </thead>\n",
       "  <tbody>\n",
       "    <tr>\n",
       "      <th>0</th>\n",
       "      <td>0</td>\n",
       "      <td>Muslims BUSTED: They Stole Millions In Gov’t B...</td>\n",
       "      <td>Print They should pay all the back all the mon...</td>\n",
       "      <td>100percentfedup</td>\n",
       "      <td>fake</td>\n",
       "    </tr>\n",
       "    <tr>\n",
       "      <th>1</th>\n",
       "      <td>1</td>\n",
       "      <td>Re: Why Did Attorney General Loretta Lynch Ple...</td>\n",
       "      <td>Why Did Attorney General Loretta Lynch Plead T...</td>\n",
       "      <td>100percentfedup</td>\n",
       "      <td>fake</td>\n",
       "    </tr>\n",
       "    <tr>\n",
       "      <th>2</th>\n",
       "      <td>2</td>\n",
       "      <td>BREAKING: Weiner Cooperating With FBI On Hilla...</td>\n",
       "      <td>Red State : \\nFox News Sunday reported this mo...</td>\n",
       "      <td>100percentfedup</td>\n",
       "      <td>fake</td>\n",
       "    </tr>\n",
       "    <tr>\n",
       "      <th>3</th>\n",
       "      <td>3</td>\n",
       "      <td>PIN DROP SPEECH BY FATHER OF DAUGHTER Kidnappe...</td>\n",
       "      <td>Email Kayla Mueller was a prisoner and torture...</td>\n",
       "      <td>100percentfedup</td>\n",
       "      <td>fake</td>\n",
       "    </tr>\n",
       "    <tr>\n",
       "      <th>4</th>\n",
       "      <td>4</td>\n",
       "      <td>FANTASTIC! TRUMP'S 7 POINT PLAN To Reform Heal...</td>\n",
       "      <td>Email HEALTHCARE REFORM TO MAKE AMERICA GREAT ...</td>\n",
       "      <td>100percentfedup</td>\n",
       "      <td>fake</td>\n",
       "    </tr>\n",
       "  </tbody>\n",
       "</table>\n",
       "</div>"
      ],
      "text/plain": [
       "   Unnamed: 0                                              title  \\\n",
       "0           0  Muslims BUSTED: They Stole Millions In Gov’t B...   \n",
       "1           1  Re: Why Did Attorney General Loretta Lynch Ple...   \n",
       "2           2  BREAKING: Weiner Cooperating With FBI On Hilla...   \n",
       "3           3  PIN DROP SPEECH BY FATHER OF DAUGHTER Kidnappe...   \n",
       "4           4  FANTASTIC! TRUMP'S 7 POINT PLAN To Reform Heal...   \n",
       "\n",
       "                                             content      publication label  \n",
       "0  Print They should pay all the back all the mon...  100percentfedup  fake  \n",
       "1  Why Did Attorney General Loretta Lynch Plead T...  100percentfedup  fake  \n",
       "2  Red State : \\nFox News Sunday reported this mo...  100percentfedup  fake  \n",
       "3  Email Kayla Mueller was a prisoner and torture...  100percentfedup  fake  \n",
       "4  Email HEALTHCARE REFORM TO MAKE AMERICA GREAT ...  100percentfedup  fake  "
      ]
     },
     "execution_count": 3,
     "metadata": {},
     "output_type": "execute_result"
    }
   ],
   "source": [
    "#Display top 5 rows of dataframe\n",
    "df.head(5)"
   ]
  },
  {
   "cell_type": "code",
   "execution_count": 4,
   "metadata": {},
   "outputs": [],
   "source": [
    "# Dropping null values for now.\n",
    "df = df.dropna()"
   ]
  },
  {
   "cell_type": "code",
   "execution_count": 5,
   "metadata": {},
   "outputs": [
    {
     "name": "stderr",
     "output_type": "stream",
     "text": [
      "[nltk_data] Downloading package punkt to\n",
      "[nltk_data]     C:\\Users\\adity\\AppData\\Roaming\\nltk_data...\n",
      "[nltk_data]   Unzipping tokenizers\\punkt.zip.\n",
      "[nltk_data] Downloading package wordnet to\n",
      "[nltk_data]     C:\\Users\\adity\\AppData\\Roaming\\nltk_data...\n",
      "[nltk_data]   Unzipping corpora\\wordnet.zip.\n"
     ]
    },
    {
     "data": {
      "text/plain": [
       "True"
      ]
     },
     "execution_count": 5,
     "metadata": {},
     "output_type": "execute_result"
    }
   ],
   "source": [
    "# Download NLTK \n",
    "nltk.download('punkt')\n",
    "nltk.download('wordnet')"
   ]
  },
  {
   "cell_type": "code",
   "execution_count": 6,
   "metadata": {},
   "outputs": [],
   "source": [
    "#Assigning labels as real and fake\n",
    "real, fake = df.loc[df.label == 'real'], df.loc[df.label == 'fake']"
   ]
  },
  {
   "cell_type": "code",
   "execution_count": 7,
   "metadata": {},
   "outputs": [],
   "source": [
    "# Get the Real and Fake samples\n",
    "real_content = list(real.content)\n",
    "fake_content = list(fake.content)"
   ]
  },
  {
   "cell_type": "code",
   "execution_count": 8,
   "metadata": {},
   "outputs": [],
   "source": [
    "# Set the Train and Test size (per class)\n",
    "train_size = 10000\n",
    "test_size = 1000"
   ]
  },
  {
   "cell_type": "code",
   "execution_count": 9,
   "metadata": {},
   "outputs": [],
   "source": [
    "# Training Set\n",
    "x_train = real_content[:train_size] + fake_content[:train_size]\n",
    "y_train = [1 for _ in range(train_size)] + [0 for _ in range(train_size)]"
   ]
  },
  {
   "cell_type": "code",
   "execution_count": 10,
   "metadata": {},
   "outputs": [],
   "source": [
    "# Testing Set\n",
    "x_test = real_content[train_size : train_size + test_size] + fake_content[train_size : train_size + test_size]\n",
    "y_test = [1 for _ in range(test_size)] + [0 for _ in range(test_size)]"
   ]
  },
  {
   "cell_type": "code",
   "execution_count": 14,
   "metadata": {},
   "outputs": [
    {
     "name": "stdout",
     "output_type": "stream",
     "text": [
      "Wall time: 7min 10s\n"
     ]
    }
   ],
   "source": [
    "%%time\n",
    "# TF-IDF Vector implementation.\n",
    "vectorizer = TfidfVectorizer(ngram_range=(2, 4), stop_words='english')\n",
    "\n",
    "# Vectorize the training and testing datasets.\n",
    "x_train_vectorized = vectorizer.fit_transform(x_train)\n",
    "x_test_vectorized = vectorizer.transform(x_test)"
   ]
  },
  {
   "cell_type": "code",
   "execution_count": 16,
   "metadata": {},
   "outputs": [
    {
     "data": {
      "text/plain": [
       "18463046"
      ]
     },
     "execution_count": 16,
     "metadata": {},
     "output_type": "execute_result"
    }
   ],
   "source": [
    "len(vectorizer.vocabulary_)"
   ]
  },
  {
   "cell_type": "markdown",
   "metadata": {},
   "source": [
    "# Support Vector Machine"
   ]
  },
  {
   "cell_type": "code",
   "execution_count": 95,
   "metadata": {},
   "outputs": [
    {
     "name": "stdout",
     "output_type": "stream",
     "text": [
      "              precision    recall  f1-score   support\n",
      "\n",
      "        Fake       0.86      0.88      0.87      2000\n",
      "        Real       0.88      0.86      0.87      2000\n",
      "\n",
      "   micro avg       0.87      0.87      0.87      4000\n",
      "   macro avg       0.87      0.87      0.87      4000\n",
      "weighted avg       0.87      0.87      0.87      4000\n",
      "\n"
     ]
    }
   ],
   "source": [
    "#Intializing SVM Model\n",
    "SVM_model = LinearSVC()\n",
    "SVM_model.fit(x_train_vectorized, y_train)\n",
    "print(classification_report(y_true = y_test, y_pred = SVM_model.predict(x_test_vectorized), target_names = [\"Fake\", \"Real\"]))"
   ]
  },
  {
   "cell_type": "markdown",
   "metadata": {},
   "source": [
    "# Naive Bayes"
   ]
  },
  {
   "cell_type": "code",
   "execution_count": 96,
   "metadata": {},
   "outputs": [
    {
     "name": "stdout",
     "output_type": "stream",
     "text": [
      "              precision    recall  f1-score   support\n",
      "\n",
      "        Fake       0.78      0.94      0.85      2000\n",
      "        Real       0.92      0.73      0.82      2000\n",
      "\n",
      "   micro avg       0.84      0.84      0.84      4000\n",
      "   macro avg       0.85      0.84      0.83      4000\n",
      "weighted avg       0.85      0.84      0.83      4000\n",
      "\n"
     ]
    }
   ],
   "source": [
    "#Initializing Naive Bayes Model\n",
    "NB_model = MultinomialNB()\n",
    "NB_model.fit(x_train_vectorized, y_train)\n",
    "print(classification_report(y_true = y_test, y_pred = NB_model.predict(x_test_vectorized), target_names = [\"Fake\", \"Real\"]))"
   ]
  },
  {
   "cell_type": "code",
   "execution_count": 129,
   "metadata": {},
   "outputs": [
    {
     "data": {
      "image/png": "[encoded data removed]",
      "text/plain": [
       "<Figure size 792x576 with 1 Axes>"
      ]
     },
     "metadata": {},
     "output_type": "display_data"
    },
    {
     "data": {
      "text/plain": [
       "<ggplot: (-9223371913229961742)>"
      ]
     },
     "execution_count": 129,
     "metadata": {},
     "output_type": "execute_result"
    }
   ],
   "source": [
    "#Plotting ROC Curve \n",
    "import sklearn.metrics as metrics\n",
    "from ggplot import *\n",
    "# calculate the false positive rate and true positive rate for all thresholds of the classification\n",
    "probs = NB_model.predict_proba(x_test_vectorized)\n",
    "preds = probs[:,1]\n",
    "false_positive_rate , true_positive_rate, threshold = metrics.roc_curve(y_test, preds)\n",
    "roc_auc = metrics.auc(false_positive_rate, true_positive_rate)\n",
    "\n",
    "#plot ROC Curve\n",
    "\n",
    "df = pd.DataFrame(dict(false_positive_rate = false_positive_rate, true_positive_rate = true_positive_rate))\n",
    "ggplot(df, aes(x = 'false_positive_rate', y = 'true_positive_rate')) + geom_line() + geom_abline(linetype = 'dashed')"
   ]
  },
  {
   "cell_type": "markdown",
   "metadata": {},
   "source": [
    "# Logistic Regression"
   ]
  },
  {
   "cell_type": "code",
   "execution_count": 97,
   "metadata": {},
   "outputs": [
    {
     "name": "stdout",
     "output_type": "stream",
     "text": [
      "              precision    recall  f1-score   support\n",
      "\n",
      "        Fake       0.82      0.88      0.85      2000\n",
      "        Real       0.87      0.81      0.84      2000\n",
      "\n",
      "   micro avg       0.84      0.84      0.84      4000\n",
      "   macro avg       0.85      0.84      0.84      4000\n",
      "weighted avg       0.85      0.84      0.84      4000\n",
      "\n"
     ]
    }
   ],
   "source": [
    "LR_model = LogisticRegression(solver = 'lbfgs')\n",
    "LR_model.fit(x_train_vectorized, y_train)\n",
    "print(classification_report(y_true = y_test, y_pred = LR_model.predict(x_test_vectorized), target_names = [\"Fake\", \"Real\"]))\n"
   ]
  },
  {
   "cell_type": "code",
   "execution_count": 130,
   "metadata": {},
   "outputs": [
    {
     "data": {
      "image/png": "[encoded data removed]",
      "text/plain": [
       "<Figure size 792x576 with 1 Axes>"
      ]
     },
     "metadata": {},
     "output_type": "display_data"
    },
    {
     "data": {
      "text/plain": [
       "<ggplot: (-9223371913095955477)>"
      ]
     },
     "execution_count": 130,
     "metadata": {},
     "output_type": "execute_result"
    }
   ],
   "source": [
    "#Plotting ROC Curve \n",
    "import sklearn.metrics as metrics\n",
    "from ggplot import *\n",
    "# calculate the false positive rate and true positive rate for all thresholds of the classification\n",
    "probs = LR_model.predict_proba(x_test_vectorized)\n",
    "preds = probs[:,1]\n",
    "false_positive_rate , true_positive_rate, threshold = metrics.roc_curve(y_test, preds)\n",
    "roc_auc = metrics.auc(false_positive_rate, true_positive_rate)\n",
    "\n",
    "#plot ROC Curve\n",
    "\n",
    "df = pd.DataFrame(dict(false_positive_rate = false_positive_rate, true_positive_rate = true_positive_rate))\n",
    "ggplot(df, aes(x = 'false_positive_rate', y = 'true_positive_rate')) + geom_line() + geom_abline(linetype = 'dashed')"
   ]
  },
  {
   "cell_type": "code",
   "execution_count": 48,
   "metadata": {},
   "outputs": [],
   "source": [
    "model_id = \"3\"\n",
    "\n",
    "# Save Models\n",
    "pickle.dump(SVM_model, open(\"models/News/SVM/news_model-\" + model_id + \".pl\",\"wb\"))\n",
    "pickle.dump(LR_model, open(\"models/News/LR/news_model-\" + model_id + \".pl\",\"wb\"))\n",
    "pickle.dump(NB_model, open(\"models/News/NB/news_model-\" + model_id + \".pl\",\"wb\"))\n",
    "\n",
    "# Save Vectors\n",
    "pickle.dump(vectorizer, open('vectors/News/vector-' + model_id + '.pl',\"wb\"))"
   ]
  },
  {
   "cell_type": "markdown",
   "metadata": {},
   "source": [
    "## Toxicity Classifier"
   ]
  },
  {
   "cell_type": "code",
   "execution_count": 102,
   "metadata": {},
   "outputs": [],
   "source": [
    "toxic_df = pd.read_csv(\"train.csv\", encoding='utf-8')"
   ]
  },
  {
   "cell_type": "code",
   "execution_count": 103,
   "metadata": {},
   "outputs": [
    {
     "data": {
      "text/html": [
       "<div>\n",
       "<style scoped>\n",
       "    .dataframe tbody tr th:only-of-type {\n",
       "        vertical-align: middle;\n",
       "    }\n",
       "\n",
       "    .dataframe tbody tr th {\n",
       "        vertical-align: top;\n",
       "    }\n",
       "\n",
       "    .dataframe thead th {\n",
       "        text-align: right;\n",
       "    }\n",
       "</style>\n",
       "<table border=\"1\" class=\"dataframe\">\n",
       "  <thead>\n",
       "    <tr style=\"text-align: right;\">\n",
       "      <th></th>\n",
       "      <th>id</th>\n",
       "      <th>comment_text</th>\n",
       "      <th>toxic</th>\n",
       "      <th>severe_toxic</th>\n",
       "      <th>obscene</th>\n",
       "      <th>threat</th>\n",
       "      <th>insult</th>\n",
       "      <th>identity_hate</th>\n",
       "    </tr>\n",
       "  </thead>\n",
       "  <tbody>\n",
       "    <tr>\n",
       "      <th>0</th>\n",
       "      <td>0000997932d777bf</td>\n",
       "      <td>Explanation\\nWhy the edits made under my usern...</td>\n",
       "      <td>0</td>\n",
       "      <td>0</td>\n",
       "      <td>0</td>\n",
       "      <td>0</td>\n",
       "      <td>0</td>\n",
       "      <td>0</td>\n",
       "    </tr>\n",
       "    <tr>\n",
       "      <th>1</th>\n",
       "      <td>000103f0d9cfb60f</td>\n",
       "      <td>D'aww! He matches this background colour I'm s...</td>\n",
       "      <td>0</td>\n",
       "      <td>0</td>\n",
       "      <td>0</td>\n",
       "      <td>0</td>\n",
       "      <td>0</td>\n",
       "      <td>0</td>\n",
       "    </tr>\n",
       "    <tr>\n",
       "      <th>2</th>\n",
       "      <td>000113f07ec002fd</td>\n",
       "      <td>Hey man, I'm really not trying to edit war. It...</td>\n",
       "      <td>0</td>\n",
       "      <td>0</td>\n",
       "      <td>0</td>\n",
       "      <td>0</td>\n",
       "      <td>0</td>\n",
       "      <td>0</td>\n",
       "    </tr>\n",
       "    <tr>\n",
       "      <th>3</th>\n",
       "      <td>0001b41b1c6bb37e</td>\n",
       "      <td>\"\\nMore\\nI can't make any real suggestions on ...</td>\n",
       "      <td>0</td>\n",
       "      <td>0</td>\n",
       "      <td>0</td>\n",
       "      <td>0</td>\n",
       "      <td>0</td>\n",
       "      <td>0</td>\n",
       "    </tr>\n",
       "    <tr>\n",
       "      <th>4</th>\n",
       "      <td>0001d958c54c6e35</td>\n",
       "      <td>You, sir, are my hero. Any chance you remember...</td>\n",
       "      <td>0</td>\n",
       "      <td>0</td>\n",
       "      <td>0</td>\n",
       "      <td>0</td>\n",
       "      <td>0</td>\n",
       "      <td>0</td>\n",
       "    </tr>\n",
       "  </tbody>\n",
       "</table>\n",
       "</div>"
      ],
      "text/plain": [
       "                 id                                       comment_text  toxic  \\\n",
       "0  0000997932d777bf  Explanation\\nWhy the edits made under my usern...      0   \n",
       "1  000103f0d9cfb60f  D'aww! He matches this background colour I'm s...      0   \n",
       "2  000113f07ec002fd  Hey man, I'm really not trying to edit war. It...      0   \n",
       "3  0001b41b1c6bb37e  \"\\nMore\\nI can't make any real suggestions on ...      0   \n",
       "4  0001d958c54c6e35  You, sir, are my hero. Any chance you remember...      0   \n",
       "\n",
       "   severe_toxic  obscene  threat  insult  identity_hate  \n",
       "0             0        0       0       0              0  \n",
       "1             0        0       0       0              0  \n",
       "2             0        0       0       0              0  \n",
       "3             0        0       0       0              0  \n",
       "4             0        0       0       0              0  "
      ]
     },
     "execution_count": 103,
     "metadata": {},
     "output_type": "execute_result"
    }
   ],
   "source": [
    "toxic_df.head(5)"
   ]
  },
  {
   "cell_type": "code",
   "execution_count": 104,
   "metadata": {},
   "outputs": [],
   "source": [
    "toxic_df.loc[toxic_df['severe_toxic'] == 1,\"toxic\"] = 1\n",
    "# toxic_df.loc[toxic_df['obscene'] == 1,\"toxic\"] = 1\n",
    "# toxic_df.loc[toxic_df['threat'] == 1,\"toxic\"] = 1\n",
    "# toxic_df.loc[toxic_df['insult'] == 1,\"toxic\"] = 1\n",
    "# toxic_df.loc[toxic_df['identity_hate'] == 1,\"toxic\"] = 1"
   ]
  },
  {
   "cell_type": "code",
   "execution_count": 105,
   "metadata": {},
   "outputs": [],
   "source": [
    "# Toxic Vectors\n",
    "toxic = list(toxic_df.loc[toxic_df['toxic'] == 1].comment_text)\n",
    "nontoxic = list(toxic_df.loc[toxic_df['toxic'] == 0].comment_text)"
   ]
  },
  {
   "cell_type": "code",
   "execution_count": 106,
   "metadata": {},
   "outputs": [
    {
     "data": {
      "text/plain": [
       "(15294, 144277)"
      ]
     },
     "execution_count": 106,
     "metadata": {},
     "output_type": "execute_result"
    }
   ],
   "source": [
    "len(toxic),len(nontoxic)"
   ]
  },
  {
   "cell_type": "code",
   "execution_count": 107,
   "metadata": {},
   "outputs": [],
   "source": [
    "train_size = 4000\n",
    "test_size = 2000"
   ]
  },
  {
   "cell_type": "code",
   "execution_count": 108,
   "metadata": {},
   "outputs": [],
   "source": [
    "# Training Set\n",
    "x_train = toxic[:train_size] + nontoxic[:train_size]\n",
    "y_train = [1 for _ in range(train_size)] + [0 for _ in range(train_size)]"
   ]
  },
  {
   "cell_type": "code",
   "execution_count": 109,
   "metadata": {},
   "outputs": [],
   "source": [
    "# Testing Set\n",
    "x_test = toxic[train_size : train_size + test_size] + nontoxic[train_size : train_size + test_size]\n",
    "y_test = [1 for _ in range(test_size)] + [0 for _ in range(test_size)]"
   ]
  },
  {
   "cell_type": "code",
   "execution_count": 110,
   "metadata": {},
   "outputs": [],
   "source": [
    "# TF - IDF Vector\n",
    "vectorizer = TfidfVectorizer(ngram_range=(1,3))\n",
    "x_train_vectorized_toxic = vectorizer.fit_transform(x_train)\n",
    "x_test_vectorized_toxic = vectorizer.transform(x_test)"
   ]
  },
  {
   "cell_type": "markdown",
   "metadata": {},
   "source": [
    "### Support Vector Machine"
   ]
  },
  {
   "cell_type": "code",
   "execution_count": 120,
   "metadata": {},
   "outputs": [
    {
     "name": "stdout",
     "output_type": "stream",
     "text": [
      "              precision    recall  f1-score   support\n",
      "\n",
      "        Fake       0.86      0.88      0.87      2000\n",
      "        Real       0.88      0.86      0.87      2000\n",
      "\n",
      "   micro avg       0.87      0.87      0.87      4000\n",
      "   macro avg       0.87      0.87      0.87      4000\n",
      "weighted avg       0.87      0.87      0.87      4000\n",
      "\n"
     ]
    }
   ],
   "source": [
    "SVM_model_toxic = LinearSVC()\n",
    "SVM_model_toxic.fit(x_train_vectorized_toxic, y_train)\n",
    "print(classification_report(y_true = y_test, y_pred = SVM_model_toxic.predict(x_test_vectorized_toxic), target_names = [\"Fake\", \"Real\"]))"
   ]
  },
  {
   "cell_type": "markdown",
   "metadata": {},
   "source": [
    "### Naive Bayes"
   ]
  },
  {
   "cell_type": "code",
   "execution_count": 118,
   "metadata": {},
   "outputs": [
    {
     "name": "stdout",
     "output_type": "stream",
     "text": [
      "              precision    recall  f1-score   support\n",
      "\n",
      "        Fake       0.78      0.94      0.85      2000\n",
      "        Real       0.92      0.73      0.82      2000\n",
      "\n",
      "   micro avg       0.84      0.84      0.84      4000\n",
      "   macro avg       0.85      0.84      0.83      4000\n",
      "weighted avg       0.85      0.84      0.83      4000\n",
      "\n"
     ]
    }
   ],
   "source": [
    "NB_model_toxic = MultinomialNB()\n",
    "NB_model_toxic.fit(x_train_vectorized_toxic, y_train)\n",
    "print(classification_report(y_true = y_test, y_pred = NB_model_toxic.predict(x_test_vectorized_toxic), target_names = [\"Fake\", \"Real\"]))\n"
   ]
  },
  {
   "cell_type": "code",
   "execution_count": 131,
   "metadata": {},
   "outputs": [
    {
     "data": {
      "image/png": "[encoded data removed]",
      "text/plain": [
       "<Figure size 792x576 with 1 Axes>"
      ]
     },
     "metadata": {},
     "output_type": "display_data"
    },
    {
     "data": {
      "text/plain": [
       "<ggplot: (123804764115)>"
      ]
     },
     "execution_count": 131,
     "metadata": {},
     "output_type": "execute_result"
    }
   ],
   "source": [
    "import sklearn.metrics as metrics\n",
    "from ggplot import *\n",
    "# calculate the false positive rate and true positive rate for all thresholds of the classification\n",
    "probs = NB_model_toxic.predict_proba(x_test_vectorized)\n",
    "preds = probs[:,1]\n",
    "false_positive_rate , true_positive_rate, threshold = metrics.roc_curve(y_test, preds)\n",
    "roc_auc = metrics.auc(false_positive_rate, true_positive_rate)\n",
    "\n",
    "#plot ROC Curve\n",
    "\n",
    "df = pd.DataFrame(dict(false_positive_rate = false_positive_rate, true_positive_rate = true_positive_rate))\n",
    "ggplot(df, aes(x = 'false_positive_rate', y = 'true_positive_rate')) + geom_line() + geom_abline(linetype = 'dashed')"
   ]
  },
  {
   "cell_type": "code",
   "execution_count": null,
   "metadata": {},
   "outputs": [],
   "source": [
    "import sklearn.metrics as metrics\n",
    "from ggplot import *\n",
    "# calculate the fpr and tpr for all thresholds of the classification\n",
    "probs = LR_model.predict_proba(x_test_vectorized)\n",
    "preds = probs[:,1]\n",
    "fpr, tpr, threshold = metrics.roc_curve(y_test, preds)\n",
    "roc_auc = metrics.auc(fpr, tpr)\n",
    "\n",
    "# method II: ggplot\n",
    "\n",
    "df = pd.DataFrame(dict(fpr = fpr, tpr = tpr))\n",
    "ggplot(df, aes(x = 'fpr', y = 'tpr')) + geom_line() + geom_abline(linetype = 'dashed')"
   ]
  },
  {
   "cell_type": "markdown",
   "metadata": {},
   "source": [
    "### Logistic Regression"
   ]
  },
  {
   "cell_type": "code",
   "execution_count": 113,
   "metadata": {},
   "outputs": [
    {
     "name": "stdout",
     "output_type": "stream",
     "text": [
      "              precision    recall  f1-score   support\n",
      "\n",
      "        Fake       0.82      0.88      0.85      2000\n",
      "        Real       0.87      0.81      0.84      2000\n",
      "\n",
      "   micro avg       0.84      0.84      0.84      4000\n",
      "   macro avg       0.85      0.84      0.84      4000\n",
      "weighted avg       0.85      0.84      0.84      4000\n",
      "\n"
     ]
    }
   ],
   "source": [
    "LR_model_toxic = LogisticRegression(solver = 'lbfgs')\n",
    "LR_model_toxic.fit(x_train_vectorized_toxic, y_train)\n",
    "print(classification_report(y_true = y_test, y_pred = LR_model_toxic.predict(x_test_vectorized_toxic), target_names = [\"Fake\", \"Real\"]))\n"
   ]
  },
  {
   "cell_type": "code",
   "execution_count": 132,
   "metadata": {},
   "outputs": [
    {
     "data": {
      "image/png": "[encoded data removed]",
      "text/plain": [
       "<Figure size 792x576 with 1 Axes>"
      ]
     },
     "metadata": {},
     "output_type": "display_data"
    },
    {
     "data": {
      "text/plain": [
       "<ggplot: (-9223371913048599429)>"
      ]
     },
     "execution_count": 132,
     "metadata": {},
     "output_type": "execute_result"
    }
   ],
   "source": [
    "import sklearn.metrics as metrics\n",
    "from ggplot import *\n",
    "# calculate the false positive rate and true positive rate for all thresholds of the classification\n",
    "probs = LR_model_toxic.predict_proba(x_test_vectorized)\n",
    "preds = probs[:,1]\n",
    "false_positive_rate , true_positive_rate, threshold = metrics.roc_curve(y_test, preds)\n",
    "roc_auc = metrics.auc(false_positive_rate, true_positive_rate)\n",
    "\n",
    "#plot ROC Curve\n",
    "\n",
    "df = pd.DataFrame(dict(false_positive_rate = false_positive_rate, true_positive_rate = true_positive_rate))\n",
    "ggplot(df, aes(x = 'false_positive_rate', y = 'true_positive_rate')) + geom_line() + geom_abline(linetype = 'dashed')"
   ]
  },
  {
   "cell_type": "code",
   "execution_count": 45,
   "metadata": {},
   "outputs": [],
   "source": [
    "pickle.dump(LR_model, open(\"model-1.toxic\",\"wb\"))\n",
    "pickle.dump(vectorizer, open(\"vector-1.toxic\",\"wb\"))"
   ]
  }
 ],
 "metadata": {
  "kernelspec": {
   "display_name": "Python 3",
   "language": "python",
   "name": "python3"
  },
  "language_info": {
   "codemirror_mode": {
    "name": "ipython",
    "version": 3
   },
   "file_extension": ".py",
   "mimetype": "text/x-python",
   "name": "python",
   "nbconvert_exporter": "python",
   "pygments_lexer": "ipython3",
   "version": "3.7.1"
  }
 },
 "nbformat": 4,
 "nbformat_minor": 2
}
